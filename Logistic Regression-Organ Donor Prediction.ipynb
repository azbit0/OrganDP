{
 "cells": [
  {
   "cell_type": "code",
   "execution_count": null,
   "metadata": {},
   "outputs": [],
   "source": [
    "#!pip install imblearn"
   ]
  },
  {
   "cell_type": "code",
   "execution_count": 2,
   "metadata": {},
   "outputs": [
    {
     "name": "stderr",
     "output_type": "stream",
     "text": [
      "\n",
      "Bad key \"text.kerning_factor\" on line 4 in\n",
      "C:\\Users\\NXA15021\\AppData\\Local\\Continuum\\anaconda3\\lib\\site-packages\\matplotlib\\mpl-data\\stylelib\\_classic_test_patch.mplstyle.\n",
      "You probably need to get an updated matplotlibrc file from\n",
      "https://github.com/matplotlib/matplotlib/blob/v3.1.3/matplotlibrc.template\n",
      "or from the matplotlib source distribution\n"
     ]
    }
   ],
   "source": [
    "#Importing Libraries\n",
    "import pandas as pd\n",
    "from sklearn.model_selection import train_test_split\n",
    "from sklearn.linear_model import LogisticRegression\n",
    "from sklearn import preprocessing\n",
    "\n",
    "from sklearn import metrics\n",
    "import seaborn as sn\n",
    "import matplotlib.pyplot as plt\n",
    "import numpy as np\n",
    "import scipy.stats as st\n",
    "import pandas_profiling\n",
    "from pandas_profiling import ProfileReport\n",
    "\n"
   ]
  },
  {
   "cell_type": "code",
   "execution_count": 3,
   "metadata": {},
   "outputs": [],
   "source": [
    "#Loading the dataset\n",
    "dataset_df = pd.read_csv(\"./Data/Binarias/trasplantes.csv\",encoding = \"ISO-8859-1\", engine='python')\n"
   ]
  },
  {
   "cell_type": "code",
   "execution_count": 4,
   "metadata": {},
   "outputs": [
    {
     "name": "stdout",
     "output_type": "stream",
     "text": [
      "(76701, 56)\n",
      "['Unnamed: 0', 'MAS DE UN ANIO', 'CUATRO A ONCE MESES', 'UNO A TRES MESES', 'MENOS DE UN MES', 'MISMO DIA', 'MASCULINO', 'FEMENINO', 'SNTE', 'SEMAR', 'PEMEX', 'SEDENA', 'ISSSTE', 'SSA', 'SSE', 'IMSS', 'PRIVADO', 'INSTITUCION_ORGANO', 'CENTRO', 'SURESTE', 'NORESTE', 'NOROESTE', 'OCCIDENTE', 'GSR_A2B', 'GSR_A1B', 'GSR_A2', 'GSR_A1', 'GSR_AB', 'GSR_B', 'GSR_A', 'GSR_NO DISPONIBLE', 'GSR_NO APLICA', 'GSR_O', 'RH_NEGATIVO', 'RH_NO DISPONIBLE', 'RH_NO APLICA', 'RH_POSITIVO', 'MAS DE 61 ANIOS', 'DE 45 A 61 ANIOS', 'DE 31 A 44 ANIOS', 'DE 23 A 30 ANIOS', 'MENOS DE 23 ANIOS', 'ANIO TRASPLANTE', 'CORNEA', 'RINON', 'TRASPLANTE_CORNEA IMPORTADA', 'TRASPLANTE_VIVO', 'TRASPLANTE_CADAVER', 'RELACION_SE DESCONOCE', 'RELACION_NO RELACIONADO', 'RELACION_PARENTESCO/RELACIONADO', 'RELACION_NO APLICA', 'NO DISPONIBLE', 'EXITOSO', 'NO APLICA', 'NO EXITOSO']\n"
     ]
    }
   ],
   "source": [
    "dataset_df=dataset_df.dropna()\n",
    "print (dataset_df.shape)\n",
    "print (list(dataset_df.columns))"
   ]
  },
  {
   "cell_type": "code",
   "execution_count": 5,
   "metadata": {},
   "outputs": [
    {
     "data": {
      "text/html": [
       "<div>\n",
       "<style scoped>\n",
       "    .dataframe tbody tr th:only-of-type {\n",
       "        vertical-align: middle;\n",
       "    }\n",
       "\n",
       "    .dataframe tbody tr th {\n",
       "        vertical-align: top;\n",
       "    }\n",
       "\n",
       "    .dataframe thead th {\n",
       "        text-align: right;\n",
       "    }\n",
       "</style>\n",
       "<table border=\"1\" class=\"dataframe\">\n",
       "  <thead>\n",
       "    <tr style=\"text-align: right;\">\n",
       "      <th></th>\n",
       "      <th>Unnamed: 0</th>\n",
       "      <th>MAS DE UN ANIO</th>\n",
       "      <th>CUATRO A ONCE MESES</th>\n",
       "      <th>UNO A TRES MESES</th>\n",
       "      <th>MENOS DE UN MES</th>\n",
       "      <th>MISMO DIA</th>\n",
       "      <th>MASCULINO</th>\n",
       "      <th>FEMENINO</th>\n",
       "      <th>SNTE</th>\n",
       "      <th>SEMAR</th>\n",
       "      <th>...</th>\n",
       "      <th>TRASPLANTE_VIVO</th>\n",
       "      <th>TRASPLANTE_CADAVER</th>\n",
       "      <th>RELACION_SE DESCONOCE</th>\n",
       "      <th>RELACION_NO RELACIONADO</th>\n",
       "      <th>RELACION_PARENTESCO/RELACIONADO</th>\n",
       "      <th>RELACION_NO APLICA</th>\n",
       "      <th>NO DISPONIBLE</th>\n",
       "      <th>EXITOSO</th>\n",
       "      <th>NO APLICA</th>\n",
       "      <th>NO EXITOSO</th>\n",
       "    </tr>\n",
       "  </thead>\n",
       "  <tbody>\n",
       "    <tr>\n",
       "      <th>0</th>\n",
       "      <td>0</td>\n",
       "      <td>1</td>\n",
       "      <td>0</td>\n",
       "      <td>0</td>\n",
       "      <td>0</td>\n",
       "      <td>0</td>\n",
       "      <td>1</td>\n",
       "      <td>0</td>\n",
       "      <td>0</td>\n",
       "      <td>0</td>\n",
       "      <td>...</td>\n",
       "      <td>0</td>\n",
       "      <td>1</td>\n",
       "      <td>0</td>\n",
       "      <td>0</td>\n",
       "      <td>0</td>\n",
       "      <td>1</td>\n",
       "      <td>1</td>\n",
       "      <td>0</td>\n",
       "      <td>0</td>\n",
       "      <td>0</td>\n",
       "    </tr>\n",
       "    <tr>\n",
       "      <th>1</th>\n",
       "      <td>1</td>\n",
       "      <td>1</td>\n",
       "      <td>0</td>\n",
       "      <td>0</td>\n",
       "      <td>0</td>\n",
       "      <td>0</td>\n",
       "      <td>1</td>\n",
       "      <td>0</td>\n",
       "      <td>0</td>\n",
       "      <td>0</td>\n",
       "      <td>...</td>\n",
       "      <td>0</td>\n",
       "      <td>1</td>\n",
       "      <td>0</td>\n",
       "      <td>0</td>\n",
       "      <td>0</td>\n",
       "      <td>1</td>\n",
       "      <td>1</td>\n",
       "      <td>0</td>\n",
       "      <td>0</td>\n",
       "      <td>0</td>\n",
       "    </tr>\n",
       "    <tr>\n",
       "      <th>2</th>\n",
       "      <td>2</td>\n",
       "      <td>1</td>\n",
       "      <td>0</td>\n",
       "      <td>0</td>\n",
       "      <td>0</td>\n",
       "      <td>0</td>\n",
       "      <td>1</td>\n",
       "      <td>0</td>\n",
       "      <td>0</td>\n",
       "      <td>0</td>\n",
       "      <td>...</td>\n",
       "      <td>0</td>\n",
       "      <td>1</td>\n",
       "      <td>0</td>\n",
       "      <td>0</td>\n",
       "      <td>0</td>\n",
       "      <td>1</td>\n",
       "      <td>1</td>\n",
       "      <td>0</td>\n",
       "      <td>0</td>\n",
       "      <td>0</td>\n",
       "    </tr>\n",
       "    <tr>\n",
       "      <th>3</th>\n",
       "      <td>3</td>\n",
       "      <td>1</td>\n",
       "      <td>0</td>\n",
       "      <td>0</td>\n",
       "      <td>0</td>\n",
       "      <td>0</td>\n",
       "      <td>0</td>\n",
       "      <td>1</td>\n",
       "      <td>0</td>\n",
       "      <td>0</td>\n",
       "      <td>...</td>\n",
       "      <td>0</td>\n",
       "      <td>1</td>\n",
       "      <td>0</td>\n",
       "      <td>0</td>\n",
       "      <td>0</td>\n",
       "      <td>1</td>\n",
       "      <td>1</td>\n",
       "      <td>0</td>\n",
       "      <td>0</td>\n",
       "      <td>0</td>\n",
       "    </tr>\n",
       "    <tr>\n",
       "      <th>4</th>\n",
       "      <td>4</td>\n",
       "      <td>1</td>\n",
       "      <td>0</td>\n",
       "      <td>0</td>\n",
       "      <td>0</td>\n",
       "      <td>0</td>\n",
       "      <td>1</td>\n",
       "      <td>0</td>\n",
       "      <td>0</td>\n",
       "      <td>0</td>\n",
       "      <td>...</td>\n",
       "      <td>0</td>\n",
       "      <td>1</td>\n",
       "      <td>0</td>\n",
       "      <td>0</td>\n",
       "      <td>0</td>\n",
       "      <td>1</td>\n",
       "      <td>1</td>\n",
       "      <td>0</td>\n",
       "      <td>0</td>\n",
       "      <td>0</td>\n",
       "    </tr>\n",
       "  </tbody>\n",
       "</table>\n",
       "<p>5 rows × 56 columns</p>\n",
       "</div>"
      ],
      "text/plain": [
       "   Unnamed: 0  MAS DE UN ANIO  CUATRO A ONCE MESES  UNO A TRES MESES  \\\n",
       "0           0               1                    0                 0   \n",
       "1           1               1                    0                 0   \n",
       "2           2               1                    0                 0   \n",
       "3           3               1                    0                 0   \n",
       "4           4               1                    0                 0   \n",
       "\n",
       "   MENOS DE UN MES  MISMO DIA  MASCULINO  FEMENINO  SNTE  SEMAR  ...  \\\n",
       "0                0          0          1         0     0      0  ...   \n",
       "1                0          0          1         0     0      0  ...   \n",
       "2                0          0          1         0     0      0  ...   \n",
       "3                0          0          0         1     0      0  ...   \n",
       "4                0          0          1         0     0      0  ...   \n",
       "\n",
       "   TRASPLANTE_VIVO  TRASPLANTE_CADAVER  RELACION_SE DESCONOCE  \\\n",
       "0                0                   1                      0   \n",
       "1                0                   1                      0   \n",
       "2                0                   1                      0   \n",
       "3                0                   1                      0   \n",
       "4                0                   1                      0   \n",
       "\n",
       "   RELACION_NO RELACIONADO  RELACION_PARENTESCO/RELACIONADO  \\\n",
       "0                        0                                0   \n",
       "1                        0                                0   \n",
       "2                        0                                0   \n",
       "3                        0                                0   \n",
       "4                        0                                0   \n",
       "\n",
       "   RELACION_NO APLICA  NO DISPONIBLE  EXITOSO  NO APLICA  NO EXITOSO  \n",
       "0                   1              1        0          0           0  \n",
       "1                   1              1        0          0           0  \n",
       "2                   1              1        0          0           0  \n",
       "3                   1              1        0          0           0  \n",
       "4                   1              1        0          0           0  \n",
       "\n",
       "[5 rows x 56 columns]"
      ]
     },
     "execution_count": 5,
     "metadata": {},
     "output_type": "execute_result"
    }
   ],
   "source": [
    "dataset_df.head()"
   ]
  },
  {
   "cell_type": "code",
   "execution_count": 8,
   "metadata": {},
   "outputs": [
    {
     "name": "stdout",
     "output_type": "stream",
     "text": [
      "<class 'pandas.core.frame.DataFrame'>\n",
      "Int64Index: 76701 entries, 0 to 76700\n",
      "Data columns (total 56 columns):\n",
      " #   Column                           Non-Null Count  Dtype\n",
      "---  ------                           --------------  -----\n",
      " 0   Unnamed: 0                       76701 non-null  int64\n",
      " 1   MAS DE UN ANIO                   76701 non-null  int64\n",
      " 2   CUATRO A ONCE MESES              76701 non-null  int64\n",
      " 3   UNO A TRES MESES                 76701 non-null  int64\n",
      " 4   MENOS DE UN MES                  76701 non-null  int64\n",
      " 5   MISMO DIA                        76701 non-null  int64\n",
      " 6   MASCULINO                        76701 non-null  int64\n",
      " 7   FEMENINO                         76701 non-null  int64\n",
      " 8   SNTE                             76701 non-null  int64\n",
      " 9   SEMAR                            76701 non-null  int64\n",
      " 10  PEMEX                            76701 non-null  int64\n",
      " 11  SEDENA                           76701 non-null  int64\n",
      " 12  ISSSTE                           76701 non-null  int64\n",
      " 13  SSA                              76701 non-null  int64\n",
      " 14  SSE                              76701 non-null  int64\n",
      " 15  IMSS                             76701 non-null  int64\n",
      " 16  PRIVADO                          76701 non-null  int64\n",
      " 17  INSTITUCION_ORGANO               76701 non-null  int64\n",
      " 18  CENTRO                           76701 non-null  int64\n",
      " 19  SURESTE                          76701 non-null  int64\n",
      " 20  NORESTE                          76701 non-null  int64\n",
      " 21  NOROESTE                         76701 non-null  int64\n",
      " 22  OCCIDENTE                        76701 non-null  int64\n",
      " 23  GSR_A2B                          76701 non-null  int64\n",
      " 24  GSR_A1B                          76701 non-null  int64\n",
      " 25  GSR_A2                           76701 non-null  int64\n",
      " 26  GSR_A1                           76701 non-null  int64\n",
      " 27  GSR_AB                           76701 non-null  int64\n",
      " 28  GSR_B                            76701 non-null  int64\n",
      " 29  GSR_A                            76701 non-null  int64\n",
      " 30  GSR_NO DISPONIBLE                76701 non-null  int64\n",
      " 31  GSR_NO APLICA                    76701 non-null  int64\n",
      " 32  GSR_O                            76701 non-null  int64\n",
      " 33  RH_NEGATIVO                      76701 non-null  int64\n",
      " 34  RH_NO DISPONIBLE                 76701 non-null  int64\n",
      " 35  RH_NO APLICA                     76701 non-null  int64\n",
      " 36  RH_POSITIVO                      76701 non-null  int64\n",
      " 37  MAS DE 61 ANIOS                  76701 non-null  int64\n",
      " 38  DE 45 A 61 ANIOS                 76701 non-null  int64\n",
      " 39  DE 31 A 44 ANIOS                 76701 non-null  int64\n",
      " 40  DE 23 A 30 ANIOS                 76701 non-null  int64\n",
      " 41  MENOS DE 23 ANIOS                76701 non-null  int64\n",
      " 42  ANIO TRASPLANTE                  76701 non-null  int64\n",
      " 43  CORNEA                           76701 non-null  int64\n",
      " 44  RINON                            76701 non-null  int64\n",
      " 45  TRASPLANTE_CORNEA IMPORTADA      76701 non-null  int64\n",
      " 46  TRASPLANTE_VIVO                  76701 non-null  int64\n",
      " 47  TRASPLANTE_CADAVER               76701 non-null  int64\n",
      " 48  RELACION_SE DESCONOCE            76701 non-null  int64\n",
      " 49  RELACION_NO RELACIONADO          76701 non-null  int64\n",
      " 50  RELACION_PARENTESCO/RELACIONADO  76701 non-null  int64\n",
      " 51  RELACION_NO APLICA               76701 non-null  int64\n",
      " 52  NO DISPONIBLE                    76701 non-null  int64\n",
      " 53  EXITOSO                          76701 non-null  int64\n",
      " 54  NO APLICA                        76701 non-null  int64\n",
      " 55  NO EXITOSO                       76701 non-null  int64\n",
      "dtypes: int64(56)\n",
      "memory usage: 35.9 MB\n"
     ]
    }
   ],
   "source": [
    "# Information about the data\n",
    "dataset_df.info()"
   ]
  },
  {
   "cell_type": "code",
   "execution_count": 9,
   "metadata": {},
   "outputs": [
    {
     "data": {
      "text/plain": [
       "0    76295\n",
       "1      406\n",
       "Name: NO EXITOSO, dtype: int64"
      ]
     },
     "execution_count": 9,
     "metadata": {},
     "output_type": "execute_result"
    }
   ],
   "source": [
    "dataset_df['NO EXITOSO'].value_counts()"
   ]
  },
  {
   "cell_type": "code",
   "execution_count": 10,
   "metadata": {},
   "outputs": [
    {
     "data": {
      "image/png": "[encoded data removed]",
      "text/plain": [
       "<Figure size 576x396 with 1 Axes>"
      ]
     },
     "metadata": {},
     "output_type": "display_data"
    },
    {
     "data": {
      "text/plain": [
       "<Figure size 576x396 with 0 Axes>"
      ]
     },
     "metadata": {},
     "output_type": "display_data"
    }
   ],
   "source": [
    "sn.countplot(x='NO EXITOSO', data=dataset_df, palette='hls')\n",
    "plt.show()\n",
    "plt.savefig('count_plot')"
   ]
  },
  {
   "cell_type": "code",
   "execution_count": 11,
   "metadata": {},
   "outputs": [
    {
     "name": "stdout",
     "output_type": "stream",
     "text": [
      "percentage of NO EXITOSO=0 is 99.47067182957198\n",
      "percentage of NO EXITOSO =1 0.5293281704280257\n"
     ]
    }
   ],
   "source": [
    "count_no_sub = len(dataset_df[dataset_df['NO EXITOSO']==0])\n",
    "count_sub = len(dataset_df[dataset_df['NO EXITOSO']==1])\n",
    "pct_of_no_sub = count_no_sub/(count_no_sub+count_sub)\n",
    "print(\"percentage of NO EXITOSO=0 is\", pct_of_no_sub*100)\n",
    "pct_of_sub = count_sub/(count_no_sub+count_sub)\n",
    "print(\"percentage of NO EXITOSO =1\", pct_of_sub*100)\n"
   ]
  },
  {
   "cell_type": "code",
   "execution_count": 12,
   "metadata": {},
   "outputs": [
    {
     "data": {
      "text/html": [
       "<div>\n",
       "<style scoped>\n",
       "    .dataframe tbody tr th:only-of-type {\n",
       "        vertical-align: middle;\n",
       "    }\n",
       "\n",
       "    .dataframe tbody tr th {\n",
       "        vertical-align: top;\n",
       "    }\n",
       "\n",
       "    .dataframe thead th {\n",
       "        text-align: right;\n",
       "    }\n",
       "</style>\n",
       "<table border=\"1\" class=\"dataframe\">\n",
       "  <thead>\n",
       "    <tr style=\"text-align: right;\">\n",
       "      <th></th>\n",
       "      <th>Unnamed: 0</th>\n",
       "      <th>MAS DE UN ANIO</th>\n",
       "      <th>CUATRO A ONCE MESES</th>\n",
       "      <th>UNO A TRES MESES</th>\n",
       "      <th>MENOS DE UN MES</th>\n",
       "      <th>MISMO DIA</th>\n",
       "      <th>MASCULINO</th>\n",
       "      <th>FEMENINO</th>\n",
       "      <th>SNTE</th>\n",
       "      <th>SEMAR</th>\n",
       "      <th>...</th>\n",
       "      <th>TRASPLANTE_CORNEA IMPORTADA</th>\n",
       "      <th>TRASPLANTE_VIVO</th>\n",
       "      <th>TRASPLANTE_CADAVER</th>\n",
       "      <th>RELACION_SE DESCONOCE</th>\n",
       "      <th>RELACION_NO RELACIONADO</th>\n",
       "      <th>RELACION_PARENTESCO/RELACIONADO</th>\n",
       "      <th>RELACION_NO APLICA</th>\n",
       "      <th>NO DISPONIBLE</th>\n",
       "      <th>EXITOSO</th>\n",
       "      <th>NO APLICA</th>\n",
       "    </tr>\n",
       "    <tr>\n",
       "      <th>NO EXITOSO</th>\n",
       "      <th></th>\n",
       "      <th></th>\n",
       "      <th></th>\n",
       "      <th></th>\n",
       "      <th></th>\n",
       "      <th></th>\n",
       "      <th></th>\n",
       "      <th></th>\n",
       "      <th></th>\n",
       "      <th></th>\n",
       "      <th></th>\n",
       "      <th></th>\n",
       "      <th></th>\n",
       "      <th></th>\n",
       "      <th></th>\n",
       "      <th></th>\n",
       "      <th></th>\n",
       "      <th></th>\n",
       "      <th></th>\n",
       "      <th></th>\n",
       "      <th></th>\n",
       "    </tr>\n",
       "  </thead>\n",
       "  <tbody>\n",
       "    <tr>\n",
       "      <th>0</th>\n",
       "      <td>39868.119169</td>\n",
       "      <td>0.135487</td>\n",
       "      <td>0.145435</td>\n",
       "      <td>0.185831</td>\n",
       "      <td>0.340769</td>\n",
       "      <td>0.192477</td>\n",
       "      <td>0.578465</td>\n",
       "      <td>0.421535</td>\n",
       "      <td>0.000262</td>\n",
       "      <td>0.001455</td>\n",
       "      <td>...</td>\n",
       "      <td>0.152644</td>\n",
       "      <td>0.329956</td>\n",
       "      <td>0.5174</td>\n",
       "      <td>0.000262</td>\n",
       "      <td>0.039701</td>\n",
       "      <td>0.289993</td>\n",
       "      <td>0.670044</td>\n",
       "      <td>0.519182</td>\n",
       "      <td>0.472285</td>\n",
       "      <td>0.008533</td>\n",
       "    </tr>\n",
       "    <tr>\n",
       "      <th>1</th>\n",
       "      <td>56336.539409</td>\n",
       "      <td>0.044335</td>\n",
       "      <td>0.103448</td>\n",
       "      <td>0.133005</td>\n",
       "      <td>0.376847</td>\n",
       "      <td>0.342365</td>\n",
       "      <td>0.529557</td>\n",
       "      <td>0.470443</td>\n",
       "      <td>0.002463</td>\n",
       "      <td>0.004926</td>\n",
       "      <td>...</td>\n",
       "      <td>0.120690</td>\n",
       "      <td>0.879310</td>\n",
       "      <td>0.0000</td>\n",
       "      <td>0.000000</td>\n",
       "      <td>0.155172</td>\n",
       "      <td>0.724138</td>\n",
       "      <td>0.120690</td>\n",
       "      <td>0.000000</td>\n",
       "      <td>0.000000</td>\n",
       "      <td>0.000000</td>\n",
       "    </tr>\n",
       "  </tbody>\n",
       "</table>\n",
       "<p>2 rows × 55 columns</p>\n",
       "</div>"
      ],
      "text/plain": [
       "              Unnamed: 0  MAS DE UN ANIO  CUATRO A ONCE MESES  \\\n",
       "NO EXITOSO                                                      \n",
       "0           39868.119169        0.135487             0.145435   \n",
       "1           56336.539409        0.044335             0.103448   \n",
       "\n",
       "            UNO A TRES MESES  MENOS DE UN MES  MISMO DIA  MASCULINO  FEMENINO  \\\n",
       "NO EXITOSO                                                                      \n",
       "0                   0.185831         0.340769   0.192477   0.578465  0.421535   \n",
       "1                   0.133005         0.376847   0.342365   0.529557  0.470443   \n",
       "\n",
       "                SNTE     SEMAR  ...  TRASPLANTE_CORNEA IMPORTADA  \\\n",
       "NO EXITOSO                      ...                                \n",
       "0           0.000262  0.001455  ...                     0.152644   \n",
       "1           0.002463  0.004926  ...                     0.120690   \n",
       "\n",
       "            TRASPLANTE_VIVO  TRASPLANTE_CADAVER  RELACION_SE DESCONOCE  \\\n",
       "NO EXITOSO                                                               \n",
       "0                  0.329956              0.5174               0.000262   \n",
       "1                  0.879310              0.0000               0.000000   \n",
       "\n",
       "            RELACION_NO RELACIONADO  RELACION_PARENTESCO/RELACIONADO  \\\n",
       "NO EXITOSO                                                             \n",
       "0                          0.039701                         0.289993   \n",
       "1                          0.155172                         0.724138   \n",
       "\n",
       "            RELACION_NO APLICA  NO DISPONIBLE   EXITOSO  NO APLICA  \n",
       "NO EXITOSO                                                          \n",
       "0                     0.670044       0.519182  0.472285   0.008533  \n",
       "1                     0.120690       0.000000  0.000000   0.000000  \n",
       "\n",
       "[2 rows x 55 columns]"
      ]
     },
     "execution_count": 12,
     "metadata": {},
     "output_type": "execute_result"
    }
   ],
   "source": [
    "dataset_df.groupby('NO EXITOSO').mean()"
   ]
  },
  {
   "cell_type": "markdown",
   "metadata": {},
   "source": [
    "Over-sampling using SMOTE\n",
    "With our training data created, I’ll up-sample the no-subscription using the SMOTE algorithm(Synthetic Minority Oversampling Technique). At a high level, SMOTE:\n",
    "1.\tWorks by creating synthetic samples from the minor class (no-subscription) instead of creating copies.\n",
    "2.\tRandomly choosing one of the k-nearest-neighbors and using it to create a similar, but randomly tweaked, new observations.\n"
   ]
  },
  {
   "cell_type": "code",
   "execution_count": 13,
   "metadata": {},
   "outputs": [
    {
     "name": "stdout",
     "output_type": "stream",
     "text": [
      "length of oversampled data is  106836\n",
      "Number of NO EXITOSO=0 in oversampled data 53418\n",
      "Number of NO EXITOSO=1,  minor class 53418\n",
      "Proportion of NO EXITOSO=0 data in oversampled data is  0.5\n",
      "Proportion of NO EXITOSO=1, minor class data in oversampled data is  0.5\n"
     ]
    }
   ],
   "source": [
    "X = dataset_df.loc[:, dataset_df.columns != 'NO EXITOSO']\n",
    "y = dataset_df.loc[:, dataset_df.columns == 'NO EXITOSO']\n",
    "from imblearn.over_sampling import SMOTE\n",
    "os = SMOTE(random_state=0)\n",
    "X_train, X_test, y_train, y_test = train_test_split(X, y, test_size=0.3, random_state=0)\n",
    "columns = X_train.columns\n",
    "os_data_X,os_data_y=os.fit_sample(X_train, y_train)\n",
    "os_data_X = pd.DataFrame(data=os_data_X,columns=columns )\n",
    "os_data_y= pd.DataFrame(data=os_data_y,columns=['NO EXITOSO'])\n",
    "# we can Check the numbers of our data\n",
    "print(\"length of oversampled data is \",len(os_data_X))\n",
    "print(\"Number of NO EXITOSO=0 in oversampled data\",len(os_data_y[os_data_y['NO EXITOSO']==0]))\n",
    "print(\"Number of NO EXITOSO=1,  minor class\",len(os_data_y[os_data_y['NO EXITOSO']==1]))\n",
    "print(\"Proportion of NO EXITOSO=0 data in oversampled data is \",len(os_data_y[os_data_y['NO EXITOSO']==0])/len(os_data_X))\n",
    "print(\"Proportion of NO EXITOSO=1, minor class data in oversampled data is \",len(os_data_y[os_data_y['NO EXITOSO']==1])/len(os_data_X))\n"
   ]
  },
  {
   "cell_type": "code",
   "execution_count": 14,
   "metadata": {},
   "outputs": [
    {
     "name": "stdout",
     "output_type": "stream",
     "text": [
      "<class 'pandas.core.frame.DataFrame'>\n",
      "RangeIndex: 106836 entries, 0 to 106835\n",
      "Data columns (total 55 columns):\n",
      " #   Column                           Non-Null Count   Dtype\n",
      "---  ------                           --------------   -----\n",
      " 0   Unnamed: 0                       106836 non-null  int64\n",
      " 1   MAS DE UN ANIO                   106836 non-null  int64\n",
      " 2   CUATRO A ONCE MESES              106836 non-null  int64\n",
      " 3   UNO A TRES MESES                 106836 non-null  int64\n",
      " 4   MENOS DE UN MES                  106836 non-null  int64\n",
      " 5   MISMO DIA                        106836 non-null  int64\n",
      " 6   MASCULINO                        106836 non-null  int64\n",
      " 7   FEMENINO                         106836 non-null  int64\n",
      " 8   SNTE                             106836 non-null  int64\n",
      " 9   SEMAR                            106836 non-null  int64\n",
      " 10  PEMEX                            106836 non-null  int64\n",
      " 11  SEDENA                           106836 non-null  int64\n",
      " 12  ISSSTE                           106836 non-null  int64\n",
      " 13  SSA                              106836 non-null  int64\n",
      " 14  SSE                              106836 non-null  int64\n",
      " 15  IMSS                             106836 non-null  int64\n",
      " 16  PRIVADO                          106836 non-null  int64\n",
      " 17  INSTITUCION_ORGANO               106836 non-null  int64\n",
      " 18  CENTRO                           106836 non-null  int64\n",
      " 19  SURESTE                          106836 non-null  int64\n",
      " 20  NORESTE                          106836 non-null  int64\n",
      " 21  NOROESTE                         106836 non-null  int64\n",
      " 22  OCCIDENTE                        106836 non-null  int64\n",
      " 23  GSR_A2B                          106836 non-null  int64\n",
      " 24  GSR_A1B                          106836 non-null  int64\n",
      " 25  GSR_A2                           106836 non-null  int64\n",
      " 26  GSR_A1                           106836 non-null  int64\n",
      " 27  GSR_AB                           106836 non-null  int64\n",
      " 28  GSR_B                            106836 non-null  int64\n",
      " 29  GSR_A                            106836 non-null  int64\n",
      " 30  GSR_NO DISPONIBLE                106836 non-null  int64\n",
      " 31  GSR_NO APLICA                    106836 non-null  int64\n",
      " 32  GSR_O                            106836 non-null  int64\n",
      " 33  RH_NEGATIVO                      106836 non-null  int64\n",
      " 34  RH_NO DISPONIBLE                 106836 non-null  int64\n",
      " 35  RH_NO APLICA                     106836 non-null  int64\n",
      " 36  RH_POSITIVO                      106836 non-null  int64\n",
      " 37  MAS DE 61 ANIOS                  106836 non-null  int64\n",
      " 38  DE 45 A 61 ANIOS                 106836 non-null  int64\n",
      " 39  DE 31 A 44 ANIOS                 106836 non-null  int64\n",
      " 40  DE 23 A 30 ANIOS                 106836 non-null  int64\n",
      " 41  MENOS DE 23 ANIOS                106836 non-null  int64\n",
      " 42  ANIO TRASPLANTE                  106836 non-null  int64\n",
      " 43  CORNEA                           106836 non-null  int64\n",
      " 44  RINON                            106836 non-null  int64\n",
      " 45  TRASPLANTE_CORNEA IMPORTADA      106836 non-null  int64\n",
      " 46  TRASPLANTE_VIVO                  106836 non-null  int64\n",
      " 47  TRASPLANTE_CADAVER               106836 non-null  int64\n",
      " 48  RELACION_SE DESCONOCE            106836 non-null  int64\n",
      " 49  RELACION_NO RELACIONADO          106836 non-null  int64\n",
      " 50  RELACION_PARENTESCO/RELACIONADO  106836 non-null  int64\n",
      " 51  RELACION_NO APLICA               106836 non-null  int64\n",
      " 52  NO DISPONIBLE                    106836 non-null  int64\n",
      " 53  EXITOSO                          106836 non-null  int64\n",
      " 54  NO APLICA                        106836 non-null  int64\n",
      "dtypes: int64(55)\n",
      "memory usage: 44.8 MB\n"
     ]
    }
   ],
   "source": [
    "os_data_X.info()"
   ]
  },
  {
   "cell_type": "markdown",
   "metadata": {},
   "source": [
    "# Recursive Feature Elimination (RFE) \n",
    "is based on the idea to repeatedly construct a model and choose either the best \n",
    "or worst performing feature, setting the feature aside and then repeating the process with the rest of the features.\n",
    "This process is applied until all features in the dataset are exhausted. \n",
    "The goal of RFE is to select features by recursively considering smaller and smaller sets of features."
   ]
  },
  {
   "cell_type": "code",
   "execution_count": 15,
   "metadata": {},
   "outputs": [
    {
     "name": "stderr",
     "output_type": "stream",
     "text": [
      "C:\\Users\\NXA15021\\AppData\\Local\\Continuum\\anaconda3\\lib\\site-packages\\sklearn\\utils\\validation.py:71: FutureWarning: Pass n_features_to_select=20 as keyword args. From version 0.25 passing these as positional arguments will result in an error\n",
      "  FutureWarning)\n"
     ]
    },
    {
     "name": "stdout",
     "output_type": "stream",
     "text": [
      "[ True False False False  True False  True  True False False False False\n",
      " False False False  True  True False  True False False False  True False\n",
      " False False False False False False False  True  True False False  True\n",
      " False  True False False False False  True  True  True False  True  True\n",
      " False False False  True  True  True False]\n",
      "[ 1 10  8  3  1 15  1  1 34 31 29 28 23 17  9  1  1 19  1 21 14 18  1 36\n",
      " 35 32 30 25 20 13 11  1  1 22  7  1 27  1  4  5  6  2  1  1  1 16  1  1\n",
      " 33 24 12  1  1  1 26]\n"
     ]
    }
   ],
   "source": [
    "dataset_df_vars=dataset_df.columns.values.tolist()\n",
    "y=['NO EXITOSO']\n",
    "X=[i for i in dataset_df_vars if i not in y]\n",
    "from sklearn.feature_selection import RFE\n",
    "from sklearn.linear_model import LogisticRegression\n",
    "logreg = LogisticRegression()\n",
    "rfe = RFE(logreg, 20)\n",
    "rfe = rfe.fit(os_data_X, os_data_y.values.ravel())\n",
    "print(rfe.support_)\n",
    "print(rfe.ranking_)\n"
   ]
  },
  {
   "cell_type": "code",
   "execution_count": 16,
   "metadata": {},
   "outputs": [
    {
     "name": "stdout",
     "output_type": "stream",
     "text": [
      "['Unnamed: 0', 'MAS DE UN ANIO', 'CUATRO A ONCE MESES', 'UNO A TRES MESES', 'MENOS DE UN MES', 'MISMO DIA', 'MASCULINO', 'FEMENINO', 'SNTE', 'SEMAR', 'PEMEX', 'SEDENA', 'ISSSTE', 'SSA', 'SSE', 'IMSS', 'PRIVADO', 'INSTITUCION_ORGANO', 'CENTRO', 'SURESTE', 'NORESTE', 'NOROESTE', 'OCCIDENTE', 'GSR_A2B', 'GSR_A1B', 'GSR_A2', 'GSR_A1', 'GSR_AB', 'GSR_B', 'GSR_A', 'GSR_NO DISPONIBLE', 'GSR_NO APLICA', 'GSR_O', 'RH_NEGATIVO', 'RH_NO DISPONIBLE', 'RH_NO APLICA', 'RH_POSITIVO', 'MAS DE 61 ANIOS', 'DE 45 A 61 ANIOS', 'DE 31 A 44 ANIOS', 'DE 23 A 30 ANIOS', 'MENOS DE 23 ANIOS', 'ANIO TRASPLANTE', 'CORNEA', 'RINON', 'TRASPLANTE_CORNEA IMPORTADA', 'TRASPLANTE_VIVO', 'TRASPLANTE_CADAVER', 'RELACION_SE DESCONOCE', 'RELACION_NO RELACIONADO', 'RELACION_PARENTESCO/RELACIONADO', 'RELACION_NO APLICA', 'NO DISPONIBLE', 'EXITOSO', 'NO APLICA', 'NO EXITOSO']\n"
     ]
    }
   ],
   "source": [
    "print (list(dataset_df.columns))"
   ]
  },
  {
   "cell_type": "code",
   "execution_count": 17,
   "metadata": {},
   "outputs": [],
   "source": [
    "#cols=['Unnamed: 0','MENOS DE UN MES','MASCULINO','FEMENINO','IMSS','PRIVADO','CENTRO','OCCIDENTE','GSR_NO APLICA','GSR_O','RH_NO APLICA',\n",
    "#     'MAS DE 61 ANIOS','ANIO TRASPLANTE','RINON','TRASPLANTE_VIVO','TRASPLANTE_CADAVER','RELACION_NO APLICA', 'NO DISPONIBLE', 'EXITOSO' ]\n",
    "\n",
    "cols=['MAS DE UN ANIO', 'MISMO DIA','ISSSTE','PRIVADO', 'INSTITUCION_ORGANO','CENTRO', 'SURESTE', 'NORESTE','GSR_NO APLICA'\n",
    "     ,'GSR_O','RH_NO APLICA','RH_POSITIVO','MAS DE 61 ANIOS','TRASPLANTE_VIVO','TRASPLANTE_CADAVER','RELACION_NO APLICA']"
   ]
  },
  {
   "cell_type": "code",
   "execution_count": 18,
   "metadata": {},
   "outputs": [
    {
     "data": {
      "text/plain": [
       "Unnamed: 0                         0.052237\n",
       "MAS DE UN ANIO                     0.019355\n",
       "CUATRO A ONCE MESES                0.008648\n",
       "UNO A TRES MESES                   0.009860\n",
       "MENOS DE UN MES                    0.005523\n",
       "MISMO DIA                          0.027544\n",
       "MASCULINO                          0.007186\n",
       "FEMENINO                           0.007186\n",
       "SNTE                               0.009653\n",
       "SEMAR                              0.006567\n",
       "PEMEX                              0.004478\n",
       "ISSSTE                             0.026477\n",
       "SSA                                0.007785\n",
       "SSE                                0.001511\n",
       "IMSS                               0.006759\n",
       "PRIVADO                            0.012993\n",
       "INSTITUCION_ORGANO                 0.028250\n",
       "CENTRO                             0.027403\n",
       "SURESTE                            0.027836\n",
       "NORESTE                            0.016915\n",
       "NOROESTE                           0.009391\n",
       "OCCIDENTE                          0.002215\n",
       "GSR_A1B                            0.001086\n",
       "GSR_A2                             0.005756\n",
       "GSR_A1                             0.002196\n",
       "GSR_AB                             0.006385\n",
       "GSR_B                              0.009646\n",
       "GSR_A                              0.016266\n",
       "GSR_NO DISPONIBLE                  0.019053\n",
       "GSR_NO APLICA                      0.030980\n",
       "GSR_O                              0.023033\n",
       "RH_NO DISPONIBLE                   0.019169\n",
       "RH_NO APLICA                       0.030669\n",
       "RH_POSITIVO                        0.040152\n",
       "MAS DE 61 ANIOS                    0.024419\n",
       "DE 31 A 44 ANIOS                   0.007148\n",
       "DE 23 A 30 ANIOS                   0.011195\n",
       "MENOS DE 23 ANIOS                  0.005856\n",
       "ANIO TRASPLANTE                    0.010006\n",
       "CORNEA                             0.061788\n",
       "RINON                              0.061788\n",
       "TRASPLANTE_CORNEA IMPORTADA        0.006450\n",
       "TRASPLANTE_VIVO                    0.084591\n",
       "TRASPLANTE_CADAVER                 0.075120\n",
       "RELACION_SE DESCONOCE              0.001178\n",
       "RELACION_NO RELACIONADO            0.042599\n",
       "RELACION_PARENTESCO/RELACIONADO    0.069264\n",
       "RELACION_NO APLICA                 0.084591\n",
       "NO DISPONIBLE                      0.075387\n",
       "EXITOSO                            0.068666\n",
       "NO APLICA                          0.006749\n",
       "NO EXITOSO                         1.000000\n",
       "Name: NO EXITOSO, dtype: float64"
      ]
     },
     "execution_count": 18,
     "metadata": {},
     "output_type": "execute_result"
    }
   ],
   "source": [
    "#Correlation with output variable\n",
    "cor = dataset_df.corr()\n",
    "cor_target = abs(cor[\"NO EXITOSO\"])#Selecting highly correlated features\n",
    "relevant_features = cor_target[cor_target>0.001]\n",
    "relevant_features\n"
   ]
  },
  {
   "cell_type": "code",
   "execution_count": 19,
   "metadata": {},
   "outputs": [],
   "source": [
    "X=os_data_X[cols]\n",
    "y=os_data_y['NO EXITOSO']\n"
   ]
  },
  {
   "cell_type": "markdown",
   "metadata": {},
   "source": [
    "# Implementing the model"
   ]
  },
  {
   "cell_type": "code",
   "execution_count": 21,
   "metadata": {},
   "outputs": [
    {
     "name": "stdout",
     "output_type": "stream",
     "text": [
      "Warning: Maximum number of iterations has been exceeded.\n",
      "         Current function value: 0.300506\n",
      "         Iterations: 35\n",
      "                              Results: Logit\n",
      "===========================================================================\n",
      "Model:                  Logit               Pseudo R-squared:    0.566     \n",
      "Dependent Variable:     NO EXITOSO          AIC:                 64241.6257\n",
      "Date:                   2020-07-02 10:45    BIC:                 64394.8905\n",
      "No. Observations:       106836              Log-Likelihood:      -32105.   \n",
      "Df Model:               15                  LL-Null:             -74053.   \n",
      "Df Residuals:           106820              LLR p-value:         0.0000    \n",
      "Converged:              0.0000              Scale:               1.0000    \n",
      "No. Iterations:         35.0000                                            \n",
      "---------------------------------------------------------------------------\n",
      "                    Coef.    Std.Err.     z     P>|z|    [0.025     0.975] \n",
      "---------------------------------------------------------------------------\n",
      "MAS DE UN ANIO      -1.0429    0.0578  -18.0534 0.0000    -1.1561   -0.9297\n",
      "MISMO DIA           -1.5835    0.0243  -65.1949 0.0000    -1.6311   -1.5359\n",
      "ISSSTE              -0.7086    0.0853   -8.3049 0.0000    -0.8758   -0.5414\n",
      "PRIVADO             -2.2582    0.0353  -64.0563 0.0000    -2.3272   -2.1891\n",
      "INSTITUCION_ORGANO  -0.9036 3547.2666   -0.0003 0.9998 -6953.4183 6951.6112\n",
      "CENTRO              -2.7891    0.0269 -103.6771 0.0000    -2.8418   -2.7364\n",
      "SURESTE             -1.5204    0.0448  -33.9626 0.0000    -1.6082   -1.4327\n",
      "NORESTE             -1.1765    0.0304  -38.6792 0.0000    -1.2361   -1.1168\n",
      "GSR_NO APLICA        0.5443    0.0618    8.8100 0.0000     0.4232    0.6654\n",
      "GSR_O               -1.1513    0.0223  -51.5629 0.0000    -1.1950   -1.1075\n",
      "RH_NO APLICA        -2.0207    0.0765  -26.4065 0.0000    -2.1707   -1.8707\n",
      "RH_POSITIVO         -1.3271    0.0492  -26.9508 0.0000    -1.4236   -1.2306\n",
      "MAS DE 61 ANIOS     -1.3675    0.0506  -27.0515 0.0000    -1.4666   -1.2685\n",
      "TRASPLANTE_VIVO      5.1534 3547.2666    0.0015 0.9988 -6947.3613 6957.6682\n",
      "TRASPLANTE_CADAVER -26.1882 2869.8077   -0.0091 0.9927 -5650.9080 5598.5316\n",
      "RELACION_NO APLICA   4.5548    0.0506   90.0870 0.0000     4.4557    4.6539\n",
      "===========================================================================\n",
      "\n"
     ]
    },
    {
     "name": "stderr",
     "output_type": "stream",
     "text": [
      "C:\\Users\\NXA15021\\AppData\\Local\\Continuum\\anaconda3\\lib\\site-packages\\statsmodels\\base\\model.py:568: ConvergenceWarning: Maximum Likelihood optimization failed to converge. Check mle_retvals\n",
      "  \"Check mle_retvals\", ConvergenceWarning)\n"
     ]
    }
   ],
   "source": [
    "import statsmodels.api as sm\n",
    "from statsmodels.tools.sm_exceptions import ConvergenceWarning\n",
    "\n",
    "logit_model=sm.Logit(y,X)\n",
    "result=logit_model.fit()\n",
    "import warnings\n",
    "print(result.summary2())\n"
   ]
  },
  {
   "cell_type": "code",
   "execution_count": 22,
   "metadata": {},
   "outputs": [
    {
     "name": "stderr",
     "output_type": "stream",
     "text": [
      "C:\\Users\\NXA15021\\AppData\\Local\\Continuum\\anaconda3\\lib\\site-packages\\sklearn\\linear_model\\_logistic.py:764: ConvergenceWarning: lbfgs failed to converge (status=1):\n",
      "STOP: TOTAL NO. of ITERATIONS REACHED LIMIT.\n",
      "\n",
      "Increase the number of iterations (max_iter) or scale the data as shown in:\n",
      "    https://scikit-learn.org/stable/modules/preprocessing.html\n",
      "Please also refer to the documentation for alternative solver options:\n",
      "    https://scikit-learn.org/stable/modules/linear_model.html#logistic-regression\n",
      "  extra_warning_msg=_LOGISTIC_SOLVER_CONVERGENCE_MSG)\n"
     ]
    },
    {
     "data": {
      "text/plain": [
       "LogisticRegression()"
      ]
     },
     "execution_count": 22,
     "metadata": {},
     "output_type": "execute_result"
    }
   ],
   "source": [
    "from sklearn.linear_model import LogisticRegression\n",
    "from sklearn import metrics\n",
    "X_train, X_test, y_train, y_test = train_test_split(X, y, test_size=0.25, random_state=0)\n",
    "logreg = LogisticRegression( max_iter=100,)\n",
    "logreg.fit(X_train, y_train)\n"
   ]
  },
  {
   "cell_type": "code",
   "execution_count": 23,
   "metadata": {},
   "outputs": [
    {
     "name": "stdout",
     "output_type": "stream",
     "text": [
      "Accuracy of logistic regression classifier on test set: 0.87\n"
     ]
    }
   ],
   "source": [
    "y_pred = logreg.predict(X_test)\n",
    "print('Accuracy of logistic regression classifier on test set: {:.2f}'.format(logreg.score(X_test, y_test)))\n"
   ]
  },
  {
   "cell_type": "code",
   "execution_count": 24,
   "metadata": {},
   "outputs": [
    {
     "name": "stdout",
     "output_type": "stream",
     "text": [
      "[[10822  2440]\n",
      " [ 1084 12363]]\n"
     ]
    }
   ],
   "source": [
    "from sklearn.metrics import confusion_matrix\n",
    "confusion_matrix = confusion_matrix(y_test, y_pred)\n",
    "print(confusion_matrix)\n"
   ]
  },
  {
   "cell_type": "code",
   "execution_count": 25,
   "metadata": {},
   "outputs": [
    {
     "data": {
      "image/png": "[encoded data removed]",
      "text/plain": [
       "<Figure size 576x396 with 2 Axes>"
      ]
     },
     "metadata": {},
     "output_type": "display_data"
    }
   ],
   "source": [
    "confusion_matrix = pd.crosstab(y_test, y_pred, rownames=['Actual'], colnames=['Predicted'])\n",
    "sn.heatmap(confusion_matrix, annot=True)\n",
    "plt.title('Accuracy: '+str(metrics.accuracy_score(y_test, y_pred)))\n",
    "plt.savefig('Logistic Regression Accuracy.jpg')\n",
    "\n"
   ]
  },
  {
   "cell_type": "code",
   "execution_count": null,
   "metadata": {},
   "outputs": [],
   "source": []
  },
  {
   "cell_type": "code",
   "execution_count": 29,
   "metadata": {},
   "outputs": [],
   "source": [
    "def plot_confusion_matrix(cm, normalized = True):\n",
    "    if normalized:\n",
    "        cm = cm / cm.sum(axis=1)[:,np.newaxis]\n",
    "    fig, ax = plt.subplots(figsize=(8,6))\n",
    "    sn.heatmap(cm, annot=True)\n",
    "    ax.set_ylim([0,2])\n",
    "    plt.title(\"Logistic Regression\")\n",
    "    plt.ylabel('Actual')\n",
    "    plt.xlabel('Predicted')\n",
    "    #plt.savefig('Rinon/confusion_matrix_balanced.jpg')\n",
    "    plt.show()"
   ]
  },
  {
   "cell_type": "code",
   "execution_count": 30,
   "metadata": {},
   "outputs": [
    {
     "data": {
      "image/png": "[encoded data removed]",
      "text/plain": [
       "<Figure size 576x432 with 2 Axes>"
      ]
     },
     "metadata": {},
     "output_type": "display_data"
    }
   ],
   "source": [
    "plot_confusion_matrix (confusion_matrix)"
   ]
  },
  {
   "cell_type": "code",
   "execution_count": 31,
   "metadata": {},
   "outputs": [
    {
     "name": "stdout",
     "output_type": "stream",
     "text": [
      "              precision    recall  f1-score   support\n",
      "\n",
      "           0       0.91      0.82      0.86     13262\n",
      "           1       0.84      0.92      0.88     13447\n",
      "\n",
      "    accuracy                           0.87     26709\n",
      "   macro avg       0.87      0.87      0.87     26709\n",
      "weighted avg       0.87      0.87      0.87     26709\n",
      "\n"
     ]
    }
   ],
   "source": [
    "from sklearn.metrics import classification_report\n",
    "print(classification_report(y_test, y_pred))\n"
   ]
  },
  {
   "cell_type": "markdown",
   "metadata": {},
   "source": [
    "# ROC Curve"
   ]
  },
  {
   "cell_type": "code",
   "execution_count": 32,
   "metadata": {},
   "outputs": [
    {
     "data": {
      "image/png": "[encoded data removed]",
      "text/plain": [
       "<Figure size 576x396 with 1 Axes>"
      ]
     },
     "metadata": {},
     "output_type": "display_data"
    }
   ],
   "source": [
    "from sklearn.metrics import roc_auc_score\n",
    "from sklearn.metrics import roc_curve\n",
    "logit_roc_auc = roc_auc_score(y_test, logreg.predict(X_test))\n",
    "fpr, tpr, thresholds = roc_curve(y_test, logreg.predict_proba(X_test)[:,1])\n",
    "plt.figure()\n",
    "plt.plot(fpr, tpr, label='Logistic Regression (area = %0.3f)' % logit_roc_auc)\n",
    "plt.plot([0, 1], [0, 1],'r--')\n",
    "plt.xlim([0.0, 1.0])\n",
    "plt.ylim([0.0, 1.05])\n",
    "plt.xlabel('False Positive Rate')\n",
    "plt.ylabel('True Positive Rate')\n",
    "plt.title('ROC')\n",
    "plt.legend(loc=\"lower right\")\n",
    "plt.savefig('Log_ROC')\n",
    "plt.show()\n"
   ]
  }
 ],
 "metadata": {
  "kernelspec": {
   "display_name": "Python 3",
   "language": "python",
   "name": "python3"
  },
  "language_info": {
   "codemirror_mode": {
    "name": "ipython",
    "version": 3
   },
   "file_extension": ".py",
   "mimetype": "text/x-python",
   "name": "python",
   "nbconvert_exporter": "python",
   "pygments_lexer": "ipython3",
   "version": "3.7.7"
  }
 },
 "nbformat": 4,
 "nbformat_minor": 4
}
